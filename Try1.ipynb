{
 "cells": [
  {
   "cell_type": "code",
   "execution_count": 1,
   "metadata": {},
   "outputs": [],
   "source": [
    "import numpy as np\n",
    "import pandas \n",
    "import csv"
   ]
  },
  {
   "cell_type": "code",
   "execution_count": 2,
   "metadata": {},
   "outputs": [],
   "source": [
    "data = pandas.read_csv(\"MarketingLeadsPipelineFact.csv\")"
   ]
  },
  {
   "cell_type": "code",
   "execution_count": 3,
   "metadata": {},
   "outputs": [
    {
     "name": "stdout",
     "output_type": "stream",
     "text": [
      "           zCUSTKEY  Sales Opportunity Amount  zMarketingCampaignID  \\\n",
      "count  60671.000000              60671.000000          60671.000000   \n",
      "mean   12494.663150               6647.511748           1136.701703   \n",
      "std     7220.099019               3840.734290            655.663266   \n",
      "min        1.000000                 13.733333              1.000000   \n",
      "25%     6239.000000               3320.593333            571.000000   \n",
      "50%    12465.000000               6644.893333           1140.000000   \n",
      "75%    18755.000000               9967.473333           1702.000000   \n",
      "max    25000.000000              13333.160000           2269.000000   \n",
      "\n",
      "       Marketing Leads  Sales Opportunity Age  Sales Won/Lost  Sales Won-Open  \\\n",
      "count          60671.0           60671.000000         20641.0         33462.0   \n",
      "mean               1.0              35.508645             1.0             1.0   \n",
      "std                0.0              49.102275             0.0             0.0   \n",
      "min                1.0               0.000000             1.0             1.0   \n",
      "25%                1.0              11.000000             1.0             1.0   \n",
      "50%                1.0              22.000000             1.0             1.0   \n",
      "75%                1.0              41.000000             1.0             1.0   \n",
      "max                1.0             360.000000             1.0             1.0   \n",
      "\n",
      "       Sales Closed       zEMPKEY  Sales Stage num  \n",
      "count  60671.000000  60671.000000     60671.000000  \n",
      "mean       0.788680   6047.691714         4.028597  \n",
      "std        0.408248    630.301545         1.302186  \n",
      "min        0.000000   5001.000000         2.000000  \n",
      "25%        1.000000   5510.000000         3.000000  \n",
      "50%        1.000000   6261.000000         5.000000  \n",
      "75%        1.000000   6567.000000         5.000000  \n",
      "max        1.000000   6806.000000         5.000000  \n"
     ]
    }
   ],
   "source": [
    "DataDes = data.describe()\n",
    "print(DataDes)"
   ]
  },
  {
   "cell_type": "code",
   "execution_count": 4,
   "metadata": {
    "scrolled": true
   },
   "outputs": [
    {
     "name": "stdout",
     "output_type": "stream",
     "text": [
      "Sales Pipeline Date         False\n",
      "OPP ID                       True\n",
      "zCUSTKEY                    False\n",
      "Sales Opportunity Amount    False\n",
      "zMarketingCampaignID        False\n",
      "Sales Opp Status            False\n",
      "Marketing Leads             False\n",
      "Sales Opportunity Age       False\n",
      "Competitor                  False\n",
      "Sales Won/Lost               True\n",
      "Sales Won-Open               True\n",
      "zQUOTAKEY                   False\n",
      "Sales Closed                False\n",
      "zEMPKEY                     False\n",
      "Sales Stage num             False\n",
      "Sales Stage                 False\n",
      "dtype: bool\n"
     ]
    }
   ],
   "source": [
    "print(data.isnull().any())\n",
    "datanull = data.isnull().any()\n"
   ]
  },
  {
   "cell_type": "code",
   "execution_count": 5,
   "metadata": {},
   "outputs": [
    {
     "name": "stdout",
     "output_type": "stream",
     "text": [
      "Sales Pipeline Date         False\n",
      "OPP ID                       True\n",
      "zCUSTKEY                    False\n",
      "Sales Opportunity Amount    False\n",
      "zMarketingCampaignID        False\n",
      "Sales Opp Status            False\n",
      "Marketing Leads             False\n",
      "Sales Opportunity Age       False\n",
      "Competitor                  False\n",
      "Sales Won/Lost               True\n",
      "Sales Won-Open               True\n",
      "zQUOTAKEY                   False\n",
      "Sales Closed                False\n",
      "zEMPKEY                     False\n",
      "Sales Stage num             False\n",
      "Sales Stage                 False\n",
      "dtype: bool\n"
     ]
    }
   ],
   "source": [
    "print(datanull)"
   ]
  },
  {
   "cell_type": "code",
   "execution_count": 6,
   "metadata": {},
   "outputs": [
    {
     "name": "stdout",
     "output_type": "stream",
     "text": [
      "0       NaN\n",
      "1       NaN\n",
      "2       NaN\n",
      "3       NaN\n",
      "4       NaN\n",
      "5       NaN\n",
      "6       NaN\n",
      "7       NaN\n",
      "8       NaN\n",
      "9       NaN\n",
      "10      NaN\n",
      "11      NaN\n",
      "12      NaN\n",
      "13      NaN\n",
      "14      NaN\n",
      "15      NaN\n",
      "16      NaN\n",
      "17      NaN\n",
      "18      NaN\n",
      "19      NaN\n",
      "20      NaN\n",
      "21      NaN\n",
      "22      NaN\n",
      "23      NaN\n",
      "24      NaN\n",
      "25      NaN\n",
      "26      NaN\n",
      "27      NaN\n",
      "28      NaN\n",
      "29      NaN\n",
      "         ..\n",
      "60641   NaN\n",
      "60642   NaN\n",
      "60643   NaN\n",
      "60644   NaN\n",
      "60645   NaN\n",
      "60646   NaN\n",
      "60647   NaN\n",
      "60648   NaN\n",
      "60649   NaN\n",
      "60650   NaN\n",
      "60651   NaN\n",
      "60652   NaN\n",
      "60653   NaN\n",
      "60654   NaN\n",
      "60655   NaN\n",
      "60656   NaN\n",
      "60657   NaN\n",
      "60658   NaN\n",
      "60659   NaN\n",
      "60660   NaN\n",
      "60661   NaN\n",
      "60662   NaN\n",
      "60663   NaN\n",
      "60664   NaN\n",
      "60665   NaN\n",
      "60666   NaN\n",
      "60667   NaN\n",
      "60668   NaN\n",
      "60669   NaN\n",
      "60670   NaN\n",
      "Name: Sales Won/Lost, Length: 60671, dtype: float64\n",
      "0        True\n",
      "1        True\n",
      "2        True\n",
      "3        True\n",
      "4        True\n",
      "5        True\n",
      "6        True\n",
      "7        True\n",
      "8        True\n",
      "9        True\n",
      "10       True\n",
      "11       True\n",
      "12       True\n",
      "13       True\n",
      "14       True\n",
      "15       True\n",
      "16       True\n",
      "17       True\n",
      "18       True\n",
      "19       True\n",
      "20       True\n",
      "21       True\n",
      "22       True\n",
      "23       True\n",
      "24       True\n",
      "25       True\n",
      "26       True\n",
      "27       True\n",
      "28       True\n",
      "29       True\n",
      "         ... \n",
      "60641    True\n",
      "60642    True\n",
      "60643    True\n",
      "60644    True\n",
      "60645    True\n",
      "60646    True\n",
      "60647    True\n",
      "60648    True\n",
      "60649    True\n",
      "60650    True\n",
      "60651    True\n",
      "60652    True\n",
      "60653    True\n",
      "60654    True\n",
      "60655    True\n",
      "60656    True\n",
      "60657    True\n",
      "60658    True\n",
      "60659    True\n",
      "60660    True\n",
      "60661    True\n",
      "60662    True\n",
      "60663    True\n",
      "60664    True\n",
      "60665    True\n",
      "60666    True\n",
      "60667    True\n",
      "60668    True\n",
      "60669    True\n",
      "60670    True\n",
      "Name: Sales Won/Lost, Length: 60671, dtype: bool\n"
     ]
    }
   ],
   "source": [
    "#Showing result of null informatin\n",
    "print(data['Sales Won/Lost'])\n",
    "print(data['Sales Won/Lost'].isnull())"
   ]
  },
  {
   "cell_type": "code",
   "execution_count": 7,
   "metadata": {},
   "outputs": [
    {
     "data": {
      "text/html": [
       "<div>\n",
       "<style scoped>\n",
       "    .dataframe tbody tr th:only-of-type {\n",
       "        vertical-align: middle;\n",
       "    }\n",
       "\n",
       "    .dataframe tbody tr th {\n",
       "        vertical-align: top;\n",
       "    }\n",
       "\n",
       "    .dataframe thead th {\n",
       "        text-align: right;\n",
       "    }\n",
       "</style>\n",
       "<table border=\"1\" class=\"dataframe\">\n",
       "  <thead>\n",
       "    <tr style=\"text-align: right;\">\n",
       "      <th></th>\n",
       "      <th>Sales Pipeline Date</th>\n",
       "      <th>OPP ID</th>\n",
       "      <th>zCUSTKEY</th>\n",
       "      <th>Sales Opportunity Amount</th>\n",
       "      <th>zMarketingCampaignID</th>\n",
       "      <th>Sales Opp Status</th>\n",
       "      <th>Marketing Leads</th>\n",
       "      <th>Sales Opportunity Age</th>\n",
       "      <th>Competitor</th>\n",
       "      <th>Sales Won/Lost</th>\n",
       "      <th>Sales Won-Open</th>\n",
       "      <th>zQUOTAKEY</th>\n",
       "      <th>Sales Closed</th>\n",
       "      <th>zEMPKEY</th>\n",
       "      <th>Sales Stage num</th>\n",
       "      <th>Sales Stage</th>\n",
       "    </tr>\n",
       "  </thead>\n",
       "  <tbody>\n",
       "    <tr>\n",
       "      <th>0</th>\n",
       "      <td>1/1/2018</td>\n",
       "      <td>NaN</td>\n",
       "      <td>13696</td>\n",
       "      <td>6250.553333</td>\n",
       "      <td>1343</td>\n",
       "      <td>Lost</td>\n",
       "      <td>1</td>\n",
       "      <td>0</td>\n",
       "      <td>None</td>\n",
       "      <td>NaN</td>\n",
       "      <td>NaN</td>\n",
       "      <td>6157-Jan 2013</td>\n",
       "      <td>1</td>\n",
       "      <td>6157</td>\n",
       "      <td>5</td>\n",
       "      <td>Committed</td>\n",
       "    </tr>\n",
       "    <tr>\n",
       "      <th>1</th>\n",
       "      <td>1/1/2018</td>\n",
       "      <td>OPP000002</td>\n",
       "      <td>19618</td>\n",
       "      <td>6286.033333</td>\n",
       "      <td>664</td>\n",
       "      <td>Lost</td>\n",
       "      <td>1</td>\n",
       "      <td>0</td>\n",
       "      <td>Comp5</td>\n",
       "      <td>NaN</td>\n",
       "      <td>NaN</td>\n",
       "      <td>6288-Jan 2013</td>\n",
       "      <td>1</td>\n",
       "      <td>6288</td>\n",
       "      <td>5</td>\n",
       "      <td>Committed</td>\n",
       "    </tr>\n",
       "    <tr>\n",
       "      <th>2</th>\n",
       "      <td>1/2/2018</td>\n",
       "      <td>OPP000003</td>\n",
       "      <td>20680</td>\n",
       "      <td>9204.166667</td>\n",
       "      <td>1966</td>\n",
       "      <td>Lost</td>\n",
       "      <td>1</td>\n",
       "      <td>1</td>\n",
       "      <td>Comp1</td>\n",
       "      <td>NaN</td>\n",
       "      <td>NaN</td>\n",
       "      <td>5023-Jan 2013</td>\n",
       "      <td>1</td>\n",
       "      <td>5023</td>\n",
       "      <td>5</td>\n",
       "      <td>Committed</td>\n",
       "    </tr>\n",
       "    <tr>\n",
       "      <th>3</th>\n",
       "      <td>1/3/2018</td>\n",
       "      <td>OPP000004</td>\n",
       "      <td>4392</td>\n",
       "      <td>6133.073333</td>\n",
       "      <td>154</td>\n",
       "      <td>Lost</td>\n",
       "      <td>1</td>\n",
       "      <td>2</td>\n",
       "      <td>Comp1</td>\n",
       "      <td>NaN</td>\n",
       "      <td>NaN</td>\n",
       "      <td>5503-Jan 2013</td>\n",
       "      <td>1</td>\n",
       "      <td>5503</td>\n",
       "      <td>5</td>\n",
       "      <td>Committed</td>\n",
       "    </tr>\n",
       "    <tr>\n",
       "      <th>4</th>\n",
       "      <td>1/3/2018</td>\n",
       "      <td>OPP000005</td>\n",
       "      <td>8006</td>\n",
       "      <td>8275.286667</td>\n",
       "      <td>2020</td>\n",
       "      <td>Lost</td>\n",
       "      <td>1</td>\n",
       "      <td>2</td>\n",
       "      <td>None</td>\n",
       "      <td>NaN</td>\n",
       "      <td>NaN</td>\n",
       "      <td>6790-Jan 2013</td>\n",
       "      <td>1</td>\n",
       "      <td>6790</td>\n",
       "      <td>5</td>\n",
       "      <td>Committed</td>\n",
       "    </tr>\n",
       "  </tbody>\n",
       "</table>\n",
       "</div>"
      ],
      "text/plain": [
       "  Sales Pipeline Date     OPP ID  zCUSTKEY  Sales Opportunity Amount  \\\n",
       "0            1/1/2018        NaN     13696               6250.553333   \n",
       "1            1/1/2018  OPP000002     19618               6286.033333   \n",
       "2            1/2/2018  OPP000003     20680               9204.166667   \n",
       "3            1/3/2018  OPP000004      4392               6133.073333   \n",
       "4            1/3/2018  OPP000005      8006               8275.286667   \n",
       "\n",
       "   zMarketingCampaignID Sales Opp Status  Marketing Leads  \\\n",
       "0                  1343             Lost                1   \n",
       "1                   664             Lost                1   \n",
       "2                  1966             Lost                1   \n",
       "3                   154             Lost                1   \n",
       "4                  2020             Lost                1   \n",
       "\n",
       "   Sales Opportunity Age Competitor  Sales Won/Lost  Sales Won-Open  \\\n",
       "0                      0       None             NaN             NaN   \n",
       "1                      0      Comp5             NaN             NaN   \n",
       "2                      1      Comp1             NaN             NaN   \n",
       "3                      2      Comp1             NaN             NaN   \n",
       "4                      2       None             NaN             NaN   \n",
       "\n",
       "       zQUOTAKEY  Sales Closed  zEMPKEY  Sales Stage num Sales Stage  \n",
       "0  6157-Jan 2013             1     6157                5   Committed  \n",
       "1  6288-Jan 2013             1     6288                5   Committed  \n",
       "2  5023-Jan 2013             1     5023                5   Committed  \n",
       "3  5503-Jan 2013             1     5503                5   Committed  \n",
       "4  6790-Jan 2013             1     6790                5   Committed  "
      ]
     },
     "execution_count": 7,
     "metadata": {},
     "output_type": "execute_result"
    }
   ],
   "source": [
    "data.head()"
   ]
  },
  {
   "cell_type": "code",
   "execution_count": 8,
   "metadata": {},
   "outputs": [],
   "source": [
    "#new_file=open(\"newfile.txt\",mode=\"w\",encoding=\"utf-8\")"
   ]
  },
  {
   "cell_type": "code",
   "execution_count": 9,
   "metadata": {},
   "outputs": [],
   "source": [
    "#new_file=write(datanull)"
   ]
  },
  {
   "cell_type": "code",
   "execution_count": 10,
   "metadata": {},
   "outputs": [
    {
     "name": "stdout",
     "output_type": "stream",
     "text": [
      "<class 'pandas.core.frame.DataFrame'>\n",
      "RangeIndex: 60671 entries, 0 to 60670\n",
      "Data columns (total 16 columns):\n",
      "Sales Pipeline Date         60671 non-null object\n",
      "OPP ID                      60670 non-null object\n",
      "zCUSTKEY                    60671 non-null int64\n",
      "Sales Opportunity Amount    60671 non-null float64\n",
      "zMarketingCampaignID        60671 non-null int64\n",
      "Sales Opp Status            60671 non-null object\n",
      "Marketing Leads             60671 non-null int64\n",
      "Sales Opportunity Age       60671 non-null int64\n",
      "Competitor                  60671 non-null object\n",
      "Sales Won/Lost              20641 non-null float64\n",
      "Sales Won-Open              33462 non-null float64\n",
      "zQUOTAKEY                   60671 non-null object\n",
      "Sales Closed                60671 non-null int64\n",
      "zEMPKEY                     60671 non-null int64\n",
      "Sales Stage num             60671 non-null int64\n",
      "Sales Stage                 60671 non-null object\n",
      "dtypes: float64(3), int64(7), object(6)\n",
      "memory usage: 7.4+ MB\n",
      "None\n"
     ]
    }
   ],
   "source": [
    "print(data.info())"
   ]
  },
  {
   "cell_type": "code",
   "execution_count": 11,
   "metadata": {
    "scrolled": false
   },
   "outputs": [
    {
     "data": {
      "text/plain": [
       "Sales Pipeline Date          object\n",
       "OPP ID                       object\n",
       "zCUSTKEY                      int64\n",
       "Sales Opportunity Amount    float64\n",
       "zMarketingCampaignID          int64\n",
       "Sales Opp Status             object\n",
       "Marketing Leads               int64\n",
       "Sales Opportunity Age         int64\n",
       "Competitor                   object\n",
       "Sales Won/Lost              float64\n",
       "Sales Won-Open              float64\n",
       "zQUOTAKEY                    object\n",
       "Sales Closed                  int64\n",
       "zEMPKEY                       int64\n",
       "Sales Stage num               int64\n",
       "Sales Stage                  object\n",
       "dtype: object"
      ]
     },
     "execution_count": 11,
     "metadata": {},
     "output_type": "execute_result"
    }
   ],
   "source": [
    "df = pandas.DataFrame(data=data)\n",
    "df.dtypes"
   ]
  },
  {
   "cell_type": "code",
   "execution_count": 12,
   "metadata": {},
   "outputs": [
    {
     "data": {
      "text/plain": [
       "True"
      ]
     },
     "execution_count": 12,
     "metadata": {},
     "output_type": "execute_result"
    }
   ],
   "source": [
    "df.isnull().values.any()\n"
   ]
  },
  {
   "cell_type": "code",
   "execution_count": 13,
   "metadata": {},
   "outputs": [
    {
     "name": "stdout",
     "output_type": "stream",
     "text": [
      "Sales Pipeline Date             0\n",
      "OPP ID                          1\n",
      "zCUSTKEY                        0\n",
      "Sales Opportunity Amount        0\n",
      "zMarketingCampaignID            0\n",
      "Sales Opp Status                0\n",
      "Marketing Leads                 0\n",
      "Sales Opportunity Age           0\n",
      "Competitor                      0\n",
      "Sales Won/Lost              40030\n",
      "Sales Won-Open              27209\n",
      "zQUOTAKEY                       0\n",
      "Sales Closed                    0\n",
      "zEMPKEY                         0\n",
      "Sales Stage num                 0\n",
      "Sales Stage                     0\n",
      "dtype: int64\n"
     ]
    }
   ],
   "source": [
    "SumNullValues = df.isnull().sum()\n",
    "print(SumNullValues)"
   ]
  },
  {
   "cell_type": "code",
   "execution_count": 14,
   "metadata": {},
   "outputs": [
    {
     "name": "stdout",
     "output_type": "stream",
     "text": [
      "67240\n"
     ]
    }
   ],
   "source": [
    "TotalMissingVal = df.isnull().sum().sum()\n",
    "print(TotalMissingVal)"
   ]
  },
  {
   "cell_type": "code",
   "execution_count": 17,
   "metadata": {},
   "outputs": [],
   "source": [
    "csv.register_dialect('myDialect',\n",
    "quoting=csv.QUOTE_ALL,\n",
    "skipinitialspace=True)"
   ]
  },
  {
   "cell_type": "code",
   "execution_count": 18,
   "metadata": {},
   "outputs": [
    {
     "ename": "TypeError",
     "evalue": "'numpy.int64' object is not iterable",
     "output_type": "error",
     "traceback": [
      "\u001b[1;31m---------------------------------------------------------------------------\u001b[0m",
      "\u001b[1;31mTypeError\u001b[0m                                 Traceback (most recent call last)",
      "\u001b[1;32m<ipython-input-18-23c22a549137>\u001b[0m in \u001b[0;36m<module>\u001b[1;34m\u001b[0m\n\u001b[0;32m      1\u001b[0m \u001b[1;32mwith\u001b[0m \u001b[0mopen\u001b[0m\u001b[1;33m(\u001b[0m\u001b[1;34m'Te1t.csv'\u001b[0m\u001b[1;33m,\u001b[0m \u001b[1;34m'w'\u001b[0m\u001b[1;33m)\u001b[0m \u001b[1;32mas\u001b[0m \u001b[0mf\u001b[0m\u001b[1;33m:\u001b[0m\u001b[1;33m\u001b[0m\u001b[1;33m\u001b[0m\u001b[0m\n\u001b[0;32m      2\u001b[0m     \u001b[0mwriter\u001b[0m \u001b[1;33m=\u001b[0m \u001b[0mcsv\u001b[0m\u001b[1;33m.\u001b[0m\u001b[0mwriter\u001b[0m\u001b[1;33m(\u001b[0m\u001b[0mf\u001b[0m\u001b[1;33m,\u001b[0m \u001b[0mdialect\u001b[0m\u001b[1;33m=\u001b[0m\u001b[1;34m'myDialect'\u001b[0m\u001b[1;33m)\u001b[0m\u001b[1;33m\u001b[0m\u001b[1;33m\u001b[0m\u001b[0m\n\u001b[1;32m----> 3\u001b[1;33m     \u001b[1;32mfor\u001b[0m \u001b[0mrow\u001b[0m \u001b[1;32min\u001b[0m \u001b[0mTotalMissingVal\u001b[0m\u001b[1;33m:\u001b[0m\u001b[1;33m\u001b[0m\u001b[1;33m\u001b[0m\u001b[0m\n\u001b[0m\u001b[0;32m      4\u001b[0m         \u001b[0mwriter\u001b[0m\u001b[1;33m.\u001b[0m\u001b[0mwriterow\u001b[0m\u001b[1;33m(\u001b[0m\u001b[0mrow\u001b[0m\u001b[1;33m)\u001b[0m\u001b[1;33m\u001b[0m\u001b[1;33m\u001b[0m\u001b[0m\n\u001b[0;32m      5\u001b[0m \u001b[1;33m\u001b[0m\u001b[0m\n",
      "\u001b[1;31mTypeError\u001b[0m: 'numpy.int64' object is not iterable"
     ]
    }
   ],
   "source": [
    "with open('Te1t.csv', 'w') as f:\n",
    "    writer = csv.writer(f, dialect='myDialect')\n",
    "    for row in TotalMissingVal:\n",
    "        writer.writerow(row)\n",
    "\n",
    "f.close()"
   ]
  },
  {
   "cell_type": "code",
   "execution_count": null,
   "metadata": {},
   "outputs": [],
   "source": [
    "# make a list of the header row and strip up to the 4th letter. This is the location and year information\n",
    "cols1 = list(data.columns)\n",
    "cols1 = [str(x)[:4] for x in cols1]\n",
    "# make another list of the first row,this is the age group information\n",
    "# we need to preserve this information in the column name when we reshape the data \n",
    "cols2 = list(data.iloc[0,:])\n",
    "cols2 = [str(x) for x in cols2]\n",
    "# now join the two lists to make a combined column name which preserves our location, year and age-group information\n",
    "cols = [x+\"_\"+y for x,y in zip(cols1,cols2)]\n",
    "# Assign new column names to the dataframe\n",
    "data.columns = cols\n",
    "data.head(1)"
   ]
  },
  {
   "cell_type": "code",
   "execution_count": null,
   "metadata": {},
   "outputs": [],
   "source": [
    "data.info()"
   ]
  },
  {
   "cell_type": "code",
   "execution_count": null,
   "metadata": {},
   "outputs": [],
   "source": [
    "#resharpe functio\n",
    "# Now define a function for doing the reshape\n",
    "def ReshapeFunc(excel_obj, i):\n",
    "    \"\"\" Takes in an excel file object with multiple tabs in a wide format, and a specified index of the tab to be parsed and reshaped. Returns a data frame of the specified tab reshaped to long format\"\"\"\n",
    "\n",
    "    tabnames = data.sheet_names\n",
    "    assert i < len(tabnames), \"Your tab index exceeds the number of available tabs, try a lower number\" \n",
    "    \n",
    "    # parse and clean columns\n",
    "    df = excel_obj.parse(sheetname=tabnames[i], skiprows=7)\n",
    "    cols1 = [str(x)[:4] for x in list(df.columns)]\n",
    "    cols2 = [str(x) for x in list(df.iloc[0,:])]\n",
    "    cols = [x+\"_\"+y for x,y in zip(cols1,cols2)]\n",
    "    df.columns = cols\n",
    "    df = df.drop([\"Unna_nan\"], axis=1).iloc[1:,:].rename(columns={'dist_nan':'district',                                   'prov_nan': 'province',                                                       'part_nan':'partner',                                                       'fund_nan':'financing_source'})\n",
    "    # new columns, drop some and change data type\n",
    "    df['main_organization'] = tabnames[i].split(\"_\")[0] + \" \"+ tabnames[i].split(\"_\")[1]\n",
    "    df.drop([c for c in df.columns if \"Total\" in c], axis=1, inplace= True) \n",
    "    \n",
    "    for c in [c for c in df.columns if \"yrs\" in c]:\n",
    "        df[c] = df[c].apply(lambda x: pd.to_numeric(x))\n",
    "    # reshape - indexing, pivoting and stacking\n",
    "    idx = ['district','province', 'partner','financing_source'\n",
    ",'main_organization']\n",
    "    multi_indexed_df = df.set_index(idx)\n",
    "    stacked_df = multi_indexed_df.stack(dropna=False)\n",
    "    long_df = stacked_df.reset_index()\n",
    "    \n",
    "    # clean up and finalize\n",
    "    col_str = long_df.level_5.str.split(\"_\") \n",
    "    long_df['target_year'] = [x[0] for x in col_str] \n",
    "    long_df['target_age'] = [x[1] for x in col_str]\n",
    "    long_df['target_quantity'] = long_df[0] # rename this column\n",
    "    df_final = long_df.drop(['level_5', 0], axis=1)\n",
    "    return df_final"
   ]
  },
  {
   "cell_type": "code",
   "execution_count": null,
   "metadata": {},
   "outputs": [],
   "source": [
    "# Check that our function works:\n",
    "check_df = ReshapeFunc(data, 2)\n",
    "check_df.head(2)"
   ]
  },
  {
   "cell_type": "code",
   "execution_count": null,
   "metadata": {},
   "outputs": [],
   "source": [
    "dfs_list = [ReshapeFunc(data, i) for i in range(4)]\n",
    "concat_dfs  = pd.concat(dfs_list)\n",
    "concat_dfs.to_excel(\"reshaping_result_long_format.xlsx\")"
   ]
  },
  {
   "cell_type": "code",
   "execution_count": null,
   "metadata": {},
   "outputs": [],
   "source": []
  },
  {
   "cell_type": "code",
   "execution_count": null,
   "metadata": {},
   "outputs": [],
   "source": []
  },
  {
   "cell_type": "code",
   "execution_count": null,
   "metadata": {},
   "outputs": [],
   "source": []
  }
 ],
 "metadata": {
  "kernelspec": {
   "display_name": "Python 3",
   "language": "python",
   "name": "python3"
  },
  "language_info": {
   "codemirror_mode": {
    "name": "ipython",
    "version": 3
   },
   "file_extension": ".py",
   "mimetype": "text/x-python",
   "name": "python",
   "nbconvert_exporter": "python",
   "pygments_lexer": "ipython3",
   "version": "3.7.3"
  }
 },
 "nbformat": 4,
 "nbformat_minor": 2
}
